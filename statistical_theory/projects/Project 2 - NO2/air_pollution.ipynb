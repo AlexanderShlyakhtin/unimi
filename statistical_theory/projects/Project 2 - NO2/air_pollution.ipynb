{
 "cells": [
  {
   "cell_type": "markdown",
   "source": [
    "# Project 2 - NO2"
   ],
   "metadata": {
    "collapsed": false
   }
  },
  {
   "cell_type": "markdown",
   "source": [
    "## Description"
   ],
   "metadata": {
    "collapsed": false
   }
  },
  {
   "cell_type": "markdown",
   "source": [
    "The data are a subsample of 500 observations from a data set that originate in a study submitted by Magne Aldrin [28/Jul/04].\n",
    "Aim of the study was to verify whether air pollution at a road is related to traffic volume and meteorological variables, collected by the Norwegian Public Roads Administration."
   ],
   "metadata": {
    "collapsed": false
   }
  },
  {
   "cell_type": "markdown",
   "source": [
    "Description of the variables:\n",
    "- **x1** hourly values of the logarithm of the concentration of NO2 (particles), measured at Alnabru in Oslo, Norway, between October 2001 and August 2003.\n",
    "- **x2** logarithm of the number of cars per hour\n",
    "- **x3** temperature 2 meters above ground (Celsius degrees)\n",
    "- **x4** wind speed (meters/second)\n",
    "- **x5** temperature difference between 25 and 2 meters above ground (Celsius degrees)\n",
    "- **x6** wind direction (degrees between 0 and 360),\n",
    "- **x7**, **x8** hour of day and day number from October 1, 2001"
   ],
   "metadata": {
    "collapsed": false
   }
  },
  {
   "cell_type": "markdown",
   "source": [
    "## Tasks"
   ],
   "metadata": {
    "collapsed": false
   }
  },
  {
   "cell_type": "markdown",
   "source": [
    "Provide a qualitative description of the variables in the dataset and of their distribution, using histograms, pie charts, tables or other graphical instruments.\n",
    "Then answer specifically to the following questions:\n",
    "1. Divide the hour of day into day and night hours, paying also attention to the season, that is quite relevant in Norway. Is there a significant difference in the mean of concentration of NO2 during day and night hours?\n",
    "2. Divide each of the climatic variables x3,x4,x5 into two groups (high temperature/low temperature, high wind speed/low wind speed, etc.) and check for each of them if there is a significant difference in the mean of concentration of NO2 in the two identified groups.\n",
    "3. Divide x2 into two groups (high number of cars/low number of cars), and check if there is a significant difference in the mean of concentration of NO2 in the two identified groups.\n",
    "4. Deduce which of the variables x2-x8 is more influent in changing the concentration of NO2 in the air, discussing also the presence of possible correlations between x2-x8"
   ],
   "metadata": {
    "collapsed": false
   }
  },
  {
   "cell_type": "markdown",
   "source": [
    "## Solution"
   ],
   "metadata": {
    "collapsed": false
   }
  },
  {
   "cell_type": "markdown",
   "source": [
    "### Data preprocessing"
   ],
   "metadata": {
    "collapsed": false
   }
  },
  {
   "cell_type": "code",
   "execution_count": 3,
   "outputs": [],
   "source": [
    "import numpy as np\n",
    "import pandas as pd\n",
    "from matplotlib import pyplot as plt\n",
    "import seaborn as sns\n",
    "\n",
    "%matplotlib inline"
   ],
   "metadata": {
    "collapsed": false
   }
  },
  {
   "cell_type": "markdown",
   "source": [
    "Read the dataset and rename the columns in a meaningful way"
   ],
   "metadata": {
    "collapsed": false
   }
  },
  {
   "cell_type": "code",
   "execution_count": 8,
   "outputs": [
    {
     "data": {
      "text/plain": "   log_no2  log_cars_num  temp_2  wind_speed  temp_diff_25_2  wind_dir  hour  \\\n0  3.71844       7.69120     9.2         4.8            -0.1      74.4    20   \n1  3.10009       7.69894     6.4         3.5            -0.3      56.0    14   \n2  3.31419       4.81218    -3.7         0.9            -0.1     281.3     4   \n3  4.38826       6.95177    -7.2         1.7             1.2      74.0    23   \n4  4.34640       7.51806    -1.3         2.6            -0.1      65.0    11   \n\n   day  \n0  600  \n1  196  \n2  513  \n3  143  \n4  115  ",
      "text/html": "<div>\n<style scoped>\n    .dataframe tbody tr th:only-of-type {\n        vertical-align: middle;\n    }\n\n    .dataframe tbody tr th {\n        vertical-align: top;\n    }\n\n    .dataframe thead th {\n        text-align: right;\n    }\n</style>\n<table border=\"1\" class=\"dataframe\">\n  <thead>\n    <tr style=\"text-align: right;\">\n      <th></th>\n      <th>log_no2</th>\n      <th>log_cars_num</th>\n      <th>temp_2</th>\n      <th>wind_speed</th>\n      <th>temp_diff_25_2</th>\n      <th>wind_dir</th>\n      <th>hour</th>\n      <th>day</th>\n    </tr>\n  </thead>\n  <tbody>\n    <tr>\n      <th>0</th>\n      <td>3.71844</td>\n      <td>7.69120</td>\n      <td>9.2</td>\n      <td>4.8</td>\n      <td>-0.1</td>\n      <td>74.4</td>\n      <td>20</td>\n      <td>600</td>\n    </tr>\n    <tr>\n      <th>1</th>\n      <td>3.10009</td>\n      <td>7.69894</td>\n      <td>6.4</td>\n      <td>3.5</td>\n      <td>-0.3</td>\n      <td>56.0</td>\n      <td>14</td>\n      <td>196</td>\n    </tr>\n    <tr>\n      <th>2</th>\n      <td>3.31419</td>\n      <td>4.81218</td>\n      <td>-3.7</td>\n      <td>0.9</td>\n      <td>-0.1</td>\n      <td>281.3</td>\n      <td>4</td>\n      <td>513</td>\n    </tr>\n    <tr>\n      <th>3</th>\n      <td>4.38826</td>\n      <td>6.95177</td>\n      <td>-7.2</td>\n      <td>1.7</td>\n      <td>1.2</td>\n      <td>74.0</td>\n      <td>23</td>\n      <td>143</td>\n    </tr>\n    <tr>\n      <th>4</th>\n      <td>4.34640</td>\n      <td>7.51806</td>\n      <td>-1.3</td>\n      <td>2.6</td>\n      <td>-0.1</td>\n      <td>65.0</td>\n      <td>11</td>\n      <td>115</td>\n    </tr>\n  </tbody>\n</table>\n</div>"
     },
     "execution_count": 8,
     "metadata": {},
     "output_type": "execute_result"
    }
   ],
   "source": [
    "column_map = {\n",
    "    \"x1\": \"log_no2\",\n",
    "    \"x2\": \"log_cars_num\",\n",
    "    \"x3\": \"temp_2\",\n",
    "    \"x4\": \"wind_speed\",\n",
    "    \"x5\": \"temp_diff_25_2\",\n",
    "    \"x6\": \"wind_dir\",\n",
    "    \"x7\": \"hour\",\n",
    "    \"x8\": \"day\"\n",
    "}\n",
    "\n",
    "data = pd.read_csv(\"NO2.csv\").rename(columns=column_map)\n",
    "data.head()"
   ],
   "metadata": {
    "collapsed": false
   }
  },
  {
   "cell_type": "markdown",
   "source": [],
   "metadata": {
    "collapsed": false
   }
  },
  {
   "cell_type": "markdown",
   "source": [
    "Create a meaningful **date** column which will contain exact date in *yyyy-mm-dd* format starting from October 1, 2001 as mentioned in the description."
   ],
   "metadata": {
    "collapsed": false
   }
  },
  {
   "cell_type": "code",
   "execution_count": 16,
   "outputs": [
    {
     "data": {
      "text/plain": "   log_no2  log_cars_num  temp_2  wind_speed  temp_diff_25_2  wind_dir  hour  \\\n0  3.71844       7.69120     9.2         4.8            -0.1      74.4    20   \n1  3.10009       7.69894     6.4         3.5            -0.3      56.0    14   \n2  3.31419       4.81218    -3.7         0.9            -0.1     281.3     4   \n3  4.38826       6.95177    -7.2         1.7             1.2      74.0    23   \n4  4.34640       7.51806    -1.3         2.6            -0.1      65.0    11   \n\n   day       date  \n0  600 2003-05-24  \n1  196 2002-04-15  \n2  513 2003-02-26  \n3  143 2002-02-21  \n4  115 2002-01-24  ",
      "text/html": "<div>\n<style scoped>\n    .dataframe tbody tr th:only-of-type {\n        vertical-align: middle;\n    }\n\n    .dataframe tbody tr th {\n        vertical-align: top;\n    }\n\n    .dataframe thead th {\n        text-align: right;\n    }\n</style>\n<table border=\"1\" class=\"dataframe\">\n  <thead>\n    <tr style=\"text-align: right;\">\n      <th></th>\n      <th>log_no2</th>\n      <th>log_cars_num</th>\n      <th>temp_2</th>\n      <th>wind_speed</th>\n      <th>temp_diff_25_2</th>\n      <th>wind_dir</th>\n      <th>hour</th>\n      <th>day</th>\n      <th>date</th>\n    </tr>\n  </thead>\n  <tbody>\n    <tr>\n      <th>0</th>\n      <td>3.71844</td>\n      <td>7.69120</td>\n      <td>9.2</td>\n      <td>4.8</td>\n      <td>-0.1</td>\n      <td>74.4</td>\n      <td>20</td>\n      <td>600</td>\n      <td>2003-05-24</td>\n    </tr>\n    <tr>\n      <th>1</th>\n      <td>3.10009</td>\n      <td>7.69894</td>\n      <td>6.4</td>\n      <td>3.5</td>\n      <td>-0.3</td>\n      <td>56.0</td>\n      <td>14</td>\n      <td>196</td>\n      <td>2002-04-15</td>\n    </tr>\n    <tr>\n      <th>2</th>\n      <td>3.31419</td>\n      <td>4.81218</td>\n      <td>-3.7</td>\n      <td>0.9</td>\n      <td>-0.1</td>\n      <td>281.3</td>\n      <td>4</td>\n      <td>513</td>\n      <td>2003-02-26</td>\n    </tr>\n    <tr>\n      <th>3</th>\n      <td>4.38826</td>\n      <td>6.95177</td>\n      <td>-7.2</td>\n      <td>1.7</td>\n      <td>1.2</td>\n      <td>74.0</td>\n      <td>23</td>\n      <td>143</td>\n      <td>2002-02-21</td>\n    </tr>\n    <tr>\n      <th>4</th>\n      <td>4.34640</td>\n      <td>7.51806</td>\n      <td>-1.3</td>\n      <td>2.6</td>\n      <td>-0.1</td>\n      <td>65.0</td>\n      <td>11</td>\n      <td>115</td>\n      <td>2002-01-24</td>\n    </tr>\n  </tbody>\n</table>\n</div>"
     },
     "execution_count": 16,
     "metadata": {},
     "output_type": "execute_result"
    }
   ],
   "source": [
    "import datetime\n",
    "\n",
    "start_date = datetime.date(2001, 10, 1)\n",
    "data[\"date\"] = data.apply(lambda x: datetime.timedelta(days=x[\"day\"]) + start_date, axis=1)\n",
    "data[\"date\"] = pd.to_datetime(data[\"date\"])\n",
    "data.head()"
   ],
   "metadata": {
    "collapsed": false
   }
  },
  {
   "cell_type": "markdown",
   "source": [
    "Now we create some additional columns like **dow** (day of week), **month** and **yea**. We can use them in the further analysis while applying aggregation functions over the time frame, e.g. comparing the mean **log_no2** value in each day of the week."
   ],
   "metadata": {
    "collapsed": false
   }
  },
  {
   "cell_type": "code",
   "execution_count": 23,
   "outputs": [
    {
     "data": {
      "text/plain": "   log_no2  log_cars_num  temp_2  wind_speed  temp_diff_25_2  wind_dir  hour  \\\n0  3.71844       7.69120     9.2         4.8            -0.1      74.4    20   \n1  3.10009       7.69894     6.4         3.5            -0.3      56.0    14   \n2  3.31419       4.81218    -3.7         0.9            -0.1     281.3     4   \n3  4.38826       6.95177    -7.2         1.7             1.2      74.0    23   \n4  4.34640       7.51806    -1.3         2.6            -0.1      65.0    11   \n\n   day       date        dow     month  year   dow_name  dow_num  month_num  \\\n0  600 2003-05-24   Saturday       May  2003   Saturday        5          5   \n1  196 2002-04-15     Monday     April  2002     Monday        0          4   \n2  513 2003-02-26  Wednesday  February  2003  Wednesday        2          2   \n3  143 2002-02-21   Thursday  February  2002   Thursday        3          2   \n4  115 2002-01-24   Thursday   January  2002   Thursday        3          1   \n\n  month_name  \n0        May  \n1      April  \n2   February  \n3   February  \n4    January  ",
      "text/html": "<div>\n<style scoped>\n    .dataframe tbody tr th:only-of-type {\n        vertical-align: middle;\n    }\n\n    .dataframe tbody tr th {\n        vertical-align: top;\n    }\n\n    .dataframe thead th {\n        text-align: right;\n    }\n</style>\n<table border=\"1\" class=\"dataframe\">\n  <thead>\n    <tr style=\"text-align: right;\">\n      <th></th>\n      <th>log_no2</th>\n      <th>log_cars_num</th>\n      <th>temp_2</th>\n      <th>wind_speed</th>\n      <th>temp_diff_25_2</th>\n      <th>wind_dir</th>\n      <th>hour</th>\n      <th>day</th>\n      <th>date</th>\n      <th>dow</th>\n      <th>month</th>\n      <th>year</th>\n      <th>dow_name</th>\n      <th>dow_num</th>\n      <th>month_num</th>\n      <th>month_name</th>\n    </tr>\n  </thead>\n  <tbody>\n    <tr>\n      <th>0</th>\n      <td>3.71844</td>\n      <td>7.69120</td>\n      <td>9.2</td>\n      <td>4.8</td>\n      <td>-0.1</td>\n      <td>74.4</td>\n      <td>20</td>\n      <td>600</td>\n      <td>2003-05-24</td>\n      <td>Saturday</td>\n      <td>May</td>\n      <td>2003</td>\n      <td>Saturday</td>\n      <td>5</td>\n      <td>5</td>\n      <td>May</td>\n    </tr>\n    <tr>\n      <th>1</th>\n      <td>3.10009</td>\n      <td>7.69894</td>\n      <td>6.4</td>\n      <td>3.5</td>\n      <td>-0.3</td>\n      <td>56.0</td>\n      <td>14</td>\n      <td>196</td>\n      <td>2002-04-15</td>\n      <td>Monday</td>\n      <td>April</td>\n      <td>2002</td>\n      <td>Monday</td>\n      <td>0</td>\n      <td>4</td>\n      <td>April</td>\n    </tr>\n    <tr>\n      <th>2</th>\n      <td>3.31419</td>\n      <td>4.81218</td>\n      <td>-3.7</td>\n      <td>0.9</td>\n      <td>-0.1</td>\n      <td>281.3</td>\n      <td>4</td>\n      <td>513</td>\n      <td>2003-02-26</td>\n      <td>Wednesday</td>\n      <td>February</td>\n      <td>2003</td>\n      <td>Wednesday</td>\n      <td>2</td>\n      <td>2</td>\n      <td>February</td>\n    </tr>\n    <tr>\n      <th>3</th>\n      <td>4.38826</td>\n      <td>6.95177</td>\n      <td>-7.2</td>\n      <td>1.7</td>\n      <td>1.2</td>\n      <td>74.0</td>\n      <td>23</td>\n      <td>143</td>\n      <td>2002-02-21</td>\n      <td>Thursday</td>\n      <td>February</td>\n      <td>2002</td>\n      <td>Thursday</td>\n      <td>3</td>\n      <td>2</td>\n      <td>February</td>\n    </tr>\n    <tr>\n      <th>4</th>\n      <td>4.34640</td>\n      <td>7.51806</td>\n      <td>-1.3</td>\n      <td>2.6</td>\n      <td>-0.1</td>\n      <td>65.0</td>\n      <td>11</td>\n      <td>115</td>\n      <td>2002-01-24</td>\n      <td>Thursday</td>\n      <td>January</td>\n      <td>2002</td>\n      <td>Thursday</td>\n      <td>3</td>\n      <td>1</td>\n      <td>January</td>\n    </tr>\n  </tbody>\n</table>\n</div>"
     },
     "execution_count": 23,
     "metadata": {},
     "output_type": "execute_result"
    }
   ],
   "source": [
    "data[\"dow_name\"] = data[\"date\"].dt.day_name()\n",
    "data[\"dow_num\"] = data[\"date\"].dt.day_of_week\n",
    "data[\"month_num\"] = data[\"date\"].dt.month\n",
    "data[\"month_name\"] = data[\"date\"].dt.month_name()\n",
    "data[\"year\"] = data[\"date\"].dt.year\n",
    "data.head()"
   ],
   "metadata": {
    "collapsed": false
   }
  },
  {
   "cell_type": "markdown",
   "source": [
    "### Quantitative univariate analysis"
   ],
   "metadata": {
    "collapsed": false
   }
  },
  {
   "cell_type": "markdown",
   "source": [
    "**IMPORTANT** For drawing the plots I suggest you using **matplotlib** or **seaborn**. Please NAME YOUR X AND Y VARIABLES on each plot and WRITE DOWN YOUR CONCLUSIONS after each task completed."
   ],
   "metadata": {
    "collapsed": false
   }
  },
  {
   "cell_type": "markdown",
   "source": [
    "**Task 1.1** Draw the **histograms** of the variables *log_cars_num*, *wind_speed*, *wind_dir*."
   ],
   "metadata": {
    "collapsed": false
   }
  },
  {
   "cell_type": "code",
   "execution_count": 20,
   "outputs": [],
   "source": [
    "## Your code here"
   ],
   "metadata": {
    "collapsed": false
   }
  },
  {
   "cell_type": "markdown",
   "source": [
    "**Task 1.2** Draw the joint **histogram** (two histograms of different color in one plot) of the temperature at the 2 meters and 25 meters above the ground (you need to create the latter value by yourself)."
   ],
   "metadata": {
    "collapsed": false
   }
  },
  {
   "cell_type": "code",
   "execution_count": 21,
   "outputs": [],
   "source": [
    "## Your code here"
   ],
   "metadata": {
    "collapsed": false
   }
  },
  {
   "cell_type": "markdown",
   "source": [
    "**Task 1.3** Draw the **boxplots** of the variables *log_cars_num*, *temp_2*, *wind_speed*, *wind_dir* grouped by each time frame *dow*, *month*, *year*. You should be able to analyze how the temperature varies across months on a single plot.\n",
    "\n",
    "**Hint 1**: You may need the **hue** parameter in the plotting function to group the variables by time. See examples for interpretation in the documentation\n",
    "**Hint 2:** You should end up with 12 plots in total, so try to optimize you code by running the drawing function in a cycle."
   ],
   "metadata": {
    "collapsed": false
   }
  },
  {
   "cell_type": "code",
   "execution_count": 22,
   "outputs": [],
   "source": [
    "# Your code here"
   ],
   "metadata": {
    "collapsed": false
   }
  },
  {
   "cell_type": "markdown",
   "source": [
    "**Task 1.4** Return NO2 and number of cars to the original scale by raising those variables to exponent. Draw the histograms of the new variables and explain why the logarithm was used originally."
   ],
   "metadata": {
    "collapsed": false
   }
  },
  {
   "cell_type": "code",
   "execution_count": 25,
   "outputs": [],
   "source": [
    "# Your code here"
   ],
   "metadata": {
    "collapsed": false
   }
  },
  {
   "cell_type": "markdown",
   "source": [
    "### Time series analysis"
   ],
   "metadata": {
    "collapsed": false
   }
  },
  {
   "cell_type": "markdown",
   "source": [
    "**Task 2.1** Plot the mean temperature each month for all time period. You should end up with a plot where x-axis is a format *yyyy-mm* and y-axis is the mean temperature in the corresponding month. Make sure your x-values are sorted in ascending order.\n",
    "\n",
    "**Hint** Create a new column *yyyy-mm* and apply `sns.lineplot` with correct parameters. You should end up with the line which connects the points in the plot with the corresponding confidence interval for the variable out of the box! Please refer to the documentation"
   ],
   "metadata": {
    "collapsed": false
   }
  },
  {
   "cell_type": "code",
   "execution_count": 24,
   "outputs": [],
   "source": [
    "# Your code here"
   ],
   "metadata": {
    "collapsed": false
   }
  },
  {
   "cell_type": "markdown",
   "source": [
    "**Task 2.2** Plot the mean for other variables in the dataset across month and make a conclusion if you see any dynamic."
   ],
   "metadata": {
    "collapsed": false
   }
  },
  {
   "cell_type": "code",
   "execution_count": 26,
   "outputs": [],
   "source": [
    "# Your code here"
   ],
   "metadata": {
    "collapsed": false
   }
  },
  {
   "cell_type": "markdown",
   "source": [
    "**Task 2.3** Plot the mean temperature, number of cars, and wind direction each hour of the day."
   ],
   "metadata": {
    "collapsed": false
   }
  },
  {
   "cell_type": "code",
   "execution_count": 27,
   "outputs": [],
   "source": [
    "# Your code here"
   ],
   "metadata": {
    "collapsed": false
   }
  },
  {
   "cell_type": "markdown",
   "source": [
    "### Answering the project questions"
   ],
   "metadata": {
    "collapsed": false
   }
  },
  {
   "cell_type": "markdown",
   "source": [
    "*1. Divide the hour of day into day and night hours, paying also attention to the season, that is quite relevant in Norway. Is there a significant difference in the mean of concentration of NO2 during day and night hours?*"
   ],
   "metadata": {
    "collapsed": false
   }
  },
  {
   "cell_type": "markdown",
   "source": [
    "**Hint 1** There are different daylight hours in different seasons of the year. You need to check it specifically for Norway in the internet and include that information in the dataframe, e.g. create a separate columns with the start and end hours of light day each month. Then you need to create a binary column *day-night* where you specify if this record falls into the day or the night hours.\n",
    "\n",
    "**Hint 2** *Significant difference* means that you need to test the hypothesis of the mean equivalence between samples in the day and night hours:\n",
    "H0: m1=m2\n",
    "H1: m1 != m2\n",
    "\n",
    "Please refer to our lectures how we did that. Use `scipy.stats.t.ppf` or `scipy.stats.norm.ppf` for calculating the inverse cumulative distribution function instead of referring to the tables in the internet. Make the significance level *alpha* of the test an adjusted variable.\n",
    "\n",
    "**Hint 3** Before moving to the actual hypothesis testing try to simply visualize that difference somehow and make your own assumptions"
   ],
   "metadata": {
    "collapsed": false
   }
  },
  {
   "cell_type": "code",
   "execution_count": 28,
   "outputs": [],
   "source": [
    "# Your cool ideas and code goes here"
   ],
   "metadata": {
    "collapsed": false
   }
  },
  {
   "cell_type": "markdown",
   "source": [
    "*2.Divide each of the climatic variables x3,x4,x5 into two groups (high temperature/low temperature, high wind speed/low wind speed, etc.) and check for each of them if there is a significant difference in the mean of concentration of NO2 in the two identified groups*"
   ],
   "metadata": {
    "collapsed": false
   }
  },
  {
   "cell_type": "markdown",
   "source": [
    "**Hint 1** Based on the distribution of variables x3, x4, x5 choose the reasonable threshold for *high* and *low* values and explain your decision.\n",
    "\n",
    "**Hint 2** Please refer to the *Hint 2* of the first task regarding the hypothesis testing.\n",
    "\n",
    "**Hint 3** Before moving to the actual hypothesis testing try to simply visualize that difference somehow and make your own assumptions"
   ],
   "metadata": {
    "collapsed": false
   }
  },
  {
   "cell_type": "code",
   "execution_count": 29,
   "outputs": [],
   "source": [
    "# You statistical skills goes here"
   ],
   "metadata": {
    "collapsed": false
   }
  },
  {
   "cell_type": "markdown",
   "source": [
    "*Divide x2 into two groups (high number of cars/low number of cars), and check if there is a significant difference in the mean of concentration of NO2 in the two identified groups*"
   ],
   "metadata": {
    "collapsed": false
   }
  },
  {
   "cell_type": "markdown",
   "source": [
    "**Hint 1** Based on the distribution of variable x2 choose the reasonable threshold for *high* and *low* values and explain your decision. Try to convert the variable to the original scale and see if that helps\n",
    "\n",
    "**Hint 2** Please refer to the *Hint 2* of the first task regarding the hypothesis testing.\n",
    "\n",
    "**Hint 3** Before moving to the actual hypothesis testing try to simply visualize that difference somehow and make your own assumptions"
   ],
   "metadata": {
    "collapsed": false
   }
  },
  {
   "cell_type": "code",
   "execution_count": 30,
   "outputs": [],
   "source": [
    "# You passion to the research activities goes here"
   ],
   "metadata": {
    "collapsed": false
   }
  },
  {
   "cell_type": "markdown",
   "source": [
    "*4.Deduce which of the variables x2-x8 is more influent in changing the concentration of NO2 in the air, discussing also the presence of possible correlations between x2-x8*"
   ],
   "metadata": {
    "collapsed": false
   }
  },
  {
   "cell_type": "markdown",
   "source": [
    "**Step 1** Plot simple scatter plots of variables x2-x8 with NO2 and make the conclusion about the relationship of those variables\n",
    "**Step 2** Calculate the Pearson correlation between variables x2-x8 with NO2\n",
    "**Step 3 HARD LEVEL** Build a simple linear regression by choosing x2-x8 as X variables and predict Y variable N02. Measure the quality of the model. Analyze the feature weights and draw the conclusion about each feature contribution to the total result."
   ],
   "metadata": {
    "collapsed": false
   }
  },
  {
   "cell_type": "code",
   "execution_count": 32,
   "outputs": [],
   "source": [
    "# You love to Python coding goes directly here"
   ],
   "metadata": {
    "collapsed": false
   }
  },
  {
   "cell_type": "code",
   "execution_count": null,
   "outputs": [],
   "source": [],
   "metadata": {
    "collapsed": false
   }
  }
 ],
 "metadata": {
  "kernelspec": {
   "display_name": "Python 3",
   "language": "python",
   "name": "python3"
  },
  "language_info": {
   "codemirror_mode": {
    "name": "ipython",
    "version": 2
   },
   "file_extension": ".py",
   "mimetype": "text/x-python",
   "name": "python",
   "nbconvert_exporter": "python",
   "pygments_lexer": "ipython2",
   "version": "2.7.6"
  }
 },
 "nbformat": 4,
 "nbformat_minor": 0
}
